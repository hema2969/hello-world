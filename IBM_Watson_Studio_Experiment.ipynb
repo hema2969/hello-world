{
 "cells": [
  {
   "cell_type": "markdown",
   "metadata": {},
   "source": [
    "# *IBM Watson Studio Classification results for testing and classifying different varieties of flower.*"
   ]
  },
  {
   "cell_type": "markdown",
   "metadata": {},
   "source": [
    "- Here is an example of Data Insufficiency. "
   ]
  },
  {
   "cell_type": "markdown",
   "metadata": {},
   "source": [
    "<img src= \"flower_test_and_classification_result_1.jpg\" title=\"IBM Watson Studio Classification results for testing and classifying different varieties of flower\" />"
   ]
  },
  {
   "cell_type": "markdown",
   "metadata": {},
   "source": [
    "<img src= \"flower_test_and_classification_result_2.jpg\" title=\"IBM Watson Studio Classification results for testing and classifying different varieties of flower\" />"
   ]
  },
  {
   "cell_type": "markdown",
   "metadata": {},
   "source": [
    "- Data Insufficiency can cause wrong predictions (more false positives) specially when there are new trends emerging or new discoveries being made.\n",
    "- Data Insufficiency simply may also be due to neglecting any specific data(s) or non availability of a specific kind of data(s)!"
   ]
  },
  {
   "cell_type": "markdown",
   "metadata": {},
   "source": [
    "- Here Skeleton flower/ Chameleon flower is wrongly classified as death camas flower. "
   ]
  },
  {
   "cell_type": "markdown",
   "metadata": {},
   "source": [
    "[Reference link to the Skeleton flower page](https://gardencollage.com/inspire/wild-earth/skeleton-flower/)"
   ]
  },
  {
   "cell_type": "markdown",
   "metadata": {},
   "source": [
    "[Reference link to the video of Skeleton flower youtube page](https://www.youtube.com/watch?v=p87TVrtWmQM)"
   ]
  },
  {
   "cell_type": "markdown",
   "metadata": {},
   "source": [
    "## *Thankyou!*"
   ]
  }
 ],
 "metadata": {
  "kernelspec": {
   "display_name": "Python 3",
   "language": "python",
   "name": "python3"
  },
  "language_info": {
   "codemirror_mode": {
    "name": "ipython",
    "version": 3
   },
   "file_extension": ".py",
   "mimetype": "text/x-python",
   "name": "python",
   "nbconvert_exporter": "python",
   "pygments_lexer": "ipython3",
   "version": "3.6.8"
  }
 },
 "nbformat": 4,
 "nbformat_minor": 2
}
